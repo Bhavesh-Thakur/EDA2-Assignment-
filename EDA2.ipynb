{
  "nbformat": 4,
  "nbformat_minor": 0,
  "metadata": {
    "colab": {
      "provenance": [],
      "authorship_tag": "ABX9TyOrZLmkqad2dkMG4Y076L4i",
      "include_colab_link": true
    },
    "kernelspec": {
      "name": "python3",
      "display_name": "Python 3"
    },
    "language_info": {
      "name": "python"
    }
  },
  "cells": [
    {
      "cell_type": "markdown",
      "metadata": {
        "id": "view-in-github",
        "colab_type": "text"
      },
      "source": [
        "<a href=\"https://colab.research.google.com/github/Bhavesh-Thakur/EDA2-Assignment-/blob/main/EDA2.ipynb\" target=\"_parent\"><img src=\"https://colab.research.google.com/assets/colab-badge.svg\" alt=\"Open In Colab\"/></a>"
      ]
    },
    {
      "cell_type": "code",
      "source": [
        "import pandas as pd\n",
        "import numpy as np\n",
        "import matplotlib.pyplot as plt\n",
        "import seaborn as sns"
      ],
      "metadata": {
        "id": "yUvm8j7kBMsC"
      },
      "execution_count": null,
      "outputs": []
    },
    {
      "cell_type": "code",
      "source": [
        "data = pd.read_csv('Amazon Sales.csv')"
      ],
      "metadata": {
        "id": "lcaqrGhHBY0u"
      },
      "execution_count": null,
      "outputs": []
    },
    {
      "cell_type": "code",
      "source": [
        "data.head()\n",
        "\n",
        "data.isnull().sum()\n",
        "\n",
        "data.info()\n",
        "\n",
        "data.describe()"
      ],
      "metadata": {
        "id": "QoBesJ5DBob8"
      },
      "execution_count": null,
      "outputs": []
    },
    {
      "cell_type": "markdown",
      "source": [
        "What is the average rating for each product category?"
      ],
      "metadata": {
        "id": "ebdORUkMCDhs"
      }
    },
    {
      "cell_type": "code",
      "source": [
        "avg_rating_per_category = data.groupby('category')['rating'].mean().reset_index()\n",
        "print(avg_rating_per_category)"
      ],
      "metadata": {
        "id": "wlw2Tp92CKaF"
      },
      "execution_count": null,
      "outputs": []
    },
    {
      "cell_type": "markdown",
      "source": [
        "2. What are the top rating_count products by category?"
      ],
      "metadata": {
        "id": "bbJ1ftJvCSIl"
      }
    },
    {
      "cell_type": "code",
      "source": [
        "top_rated_products = data.groupby('category').apply(lambda x: x.nlargest(1, 'rating_count'))\n",
        "print(top_rated_products[['product_name', 'rating_count']])"
      ],
      "metadata": {
        "id": "g20LR4ZTCcej"
      },
      "execution_count": null,
      "outputs": []
    },
    {
      "cell_type": "markdown",
      "source": [
        "3.What is the distribution of discounted prices vs. actual prices?"
      ],
      "metadata": {
        "id": "ZaSGOfVwCohq"
      }
    },
    {
      "cell_type": "code",
      "source": [
        "plt.figure(figsize=(10, 6))\n",
        "sns.histplot(data['discounted_price'], label='Discounted Price', color='blue', kde=True)\n",
        "sns.histplot(data['actual_price'], label='Actual Price', color='red', kde=True)\n",
        "plt.legend()\n",
        "plt.title('Distribution of Discounted vs Actual Prices')\n",
        "plt.show()"
      ],
      "metadata": {
        "id": "b6WRkv1iCy2E"
      },
      "execution_count": null,
      "outputs": []
    },
    {
      "cell_type": "markdown",
      "source": [
        "4. How does the average discount percentage vary across categories?"
      ],
      "metadata": {
        "id": "AePH6jLsC9CD"
      }
    },
    {
      "cell_type": "code",
      "source": [
        "avg_discount_per_category = data.groupby('category')['discount_percentage'].mean().reset_index()\n",
        "print(avg_discount_per_category)"
      ],
      "metadata": {
        "id": "DSaFJvuODKGW"
      },
      "execution_count": null,
      "outputs": []
    },
    {
      "cell_type": "markdown",
      "source": [
        "5. What are the most popular product names?"
      ],
      "metadata": {
        "id": "h53kIyfjDNL9"
      }
    },
    {
      "cell_type": "code",
      "source": [
        "popular_products = data['product_name'].value_counts().head(10)\n",
        "print(popular_products)"
      ],
      "metadata": {
        "id": "ynCVWNYSDS57"
      },
      "execution_count": null,
      "outputs": []
    },
    {
      "cell_type": "markdown",
      "source": [
        "6. What are the most popular product keywords?"
      ],
      "metadata": {
        "id": "Tifqmr5XDWci"
      }
    },
    {
      "cell_type": "code",
      "source": [
        "\n",
        "from collections import Counter\n",
        "\n",
        "keywords = ' '.join(data['about_product'].dropna()).split()\n",
        "most_common_keywords = Counter(keywords).most_common(10)\n",
        "print(most_common_keywords)"
      ],
      "metadata": {
        "id": "cnAWL4fyDf6F"
      },
      "execution_count": null,
      "outputs": []
    },
    {
      "cell_type": "markdown",
      "source": [
        "7. What are the most popular product reviews?"
      ],
      "metadata": {
        "id": "Jm5sKbVYEE8c"
      }
    },
    {
      "cell_type": "code",
      "source": [
        "popular_reviews = data[['review_title', 'review_content']].value_counts().head(10)\n",
        "print(popular_reviews)"
      ],
      "metadata": {
        "id": "6ENwP011EG3x"
      },
      "execution_count": null,
      "outputs": []
    },
    {
      "cell_type": "markdown",
      "source": [
        "8.What is the correlation between discounted_price and rating?"
      ],
      "metadata": {
        "id": "4dS2sQGREJTa"
      }
    },
    {
      "cell_type": "code",
      "source": [
        "correlation = data['discounted_price'].corr(data['rating'])\n",
        "print(f'Correlation between discounted price and rating: {correlation}')"
      ],
      "metadata": {
        "id": "e-azDl2yEN8j"
      },
      "execution_count": null,
      "outputs": []
    },
    {
      "cell_type": "markdown",
      "source": [
        "9.Who are the top 5 categories based on the highest ratings?"
      ],
      "metadata": {
        "id": "2DF3DobVES1j"
      }
    },
    {
      "cell_type": "code",
      "source": [
        "top_categories_by_rating = data.groupby('category')['rating'].mean().nlargest(5).reset_index()\n",
        "print(top_categories_by_rating)"
      ],
      "metadata": {
        "id": "Nr2G5XhDEX3h"
      },
      "execution_count": null,
      "outputs": []
    },
    {
      "cell_type": "markdown",
      "source": [
        "10.Identify any potential areas for improvement or optimization based on the data analysis.\n",
        "\n",
        "Answer - Products with low ratings and high prices could suggest areas for product improvement.\n",
        "\n",
        "Categories with low discount percentages but high rating counts might indicate price optimization opportunities."
      ],
      "metadata": {
        "id": "YlCdKGGkElDB"
      }
    },
    {
      "cell_type": "markdown",
      "source": [
        "Spotify Data Analysis"
      ],
      "metadata": {
        "id": "iWDguRfYE76o"
      }
    },
    {
      "cell_type": "markdown",
      "source": [
        "1. Load the dataframe and ensure data quality by checking for missing values and duplicate rows. Handle missing values and remove duplicate rows if necessary."
      ],
      "metadata": {
        "id": "s6m8MurdFLzw"
      }
    },
    {
      "cell_type": "code",
      "source": [
        "import pandas as pd\n",
        "\n",
        "# Load the dataset\n",
        "data = pd.read_csv('spotify_hiphop_tracks.csv')  # Adjust the file name as needed\n",
        "\n",
        "# Check for missing values\n",
        "missing_values = data.isnull().sum()\n",
        "print(\"Missing Values:\\n\", missing_values)\n",
        "\n",
        "# Drop rows with missing values\n",
        "data_clean = data.dropna()\n",
        "\n",
        "# Check for duplicates\n",
        "duplicate_rows = data_clean.duplicated().sum()\n",
        "print(\"Duplicate Rows:\", duplicate_rows)\n",
        "\n",
        "# Remove duplicates\n",
        "data_clean = data_clean.drop_duplicates()\n",
        "\n",
        "# Display the cleaned dataset info\n",
        "print(data_clean.info())"
      ],
      "metadata": {
        "id": "X751EglwFOSV"
      },
      "execution_count": null,
      "outputs": []
    },
    {
      "cell_type": "markdown",
      "source": [
        "2.What is the distribution of popularity among the tracks in the dataset? Visualize it using a histogram."
      ],
      "metadata": {
        "id": "H67KyUzNFgt_"
      }
    },
    {
      "cell_type": "code",
      "source": [
        "import matplotlib.pyplot as plt\n",
        "import seaborn as sns\n",
        "\n",
        "# Plot histogram for popularity\n",
        "plt.figure(figsize=(10, 6))\n",
        "sns.histplot(data_clean['Popularity'], bins=20, kde=True)\n",
        "plt.title('Distribution of Popularity')\n",
        "plt.xlabel('Popularity')\n",
        "plt.ylabel('Frequency')\n",
        "plt.show()"
      ],
      "metadata": {
        "id": "oCg8-0u3Frqp"
      },
      "execution_count": null,
      "outputs": []
    },
    {
      "cell_type": "markdown",
      "source": [
        "3. Is there any relationship between the popularity and the duration of tracks? Explore this using a scatter plot."
      ],
      "metadata": {
        "id": "k-EQ-91eFzap"
      }
    },
    {
      "cell_type": "code",
      "source": [
        "# Scatter plot of popularity vs duration (ms)\n",
        "plt.figure(figsize=(10, 6))\n",
        "sns.scatterplot(x='Duration (ms)', y='Popularity', data=data_clean)\n",
        "plt.title('Relationship between Popularity and Duration')\n",
        "plt.xlabel('Duration (ms)')\n",
        "plt.ylabel('Popularity')\n",
        "plt.show()"
      ],
      "metadata": {
        "id": "b8gipfjwF52w"
      },
      "execution_count": null,
      "outputs": []
    },
    {
      "cell_type": "markdown",
      "source": [
        "4. Which artist has the highest number of tracks in the dataset? Display the count of tracks for each artist using a count plot."
      ],
      "metadata": {
        "id": "SqX3S-4UGBqF"
      }
    },
    {
      "cell_type": "code",
      "source": [
        "# Count plot for the number of tracks per artist\n",
        "plt.figure(figsize=(12, 8))\n",
        "sns.countplot(y='Artist', data=data_clean, order=data_clean['Artist'].value_counts().index[:10])  # Display top 10 artists\n",
        "plt.title('Number of Tracks by Artist')\n",
        "plt.xlabel('Number of Tracks')\n",
        "plt.ylabel('Artist')\n",
        "plt.show()"
      ],
      "metadata": {
        "id": "H-S5rJrsGIdm"
      },
      "execution_count": null,
      "outputs": []
    },
    {
      "cell_type": "markdown",
      "source": [
        "5. What are the top 5 least popular tracks in the dataset? Provide the artist name and track name for each."
      ],
      "metadata": {
        "id": "4l9nsmgAGKaS"
      }
    },
    {
      "cell_type": "code",
      "source": [
        "# Sort the dataset by popularity in ascending order and select the bottom 5\n",
        "least_popular_tracks = data_clean.nsmallest(5, 'Popularity')[['Artist', 'Track Name', 'Popularity']]\n",
        "print(least_popular_tracks)"
      ],
      "metadata": {
        "id": "PN5fgFXgGRa5"
      },
      "execution_count": null,
      "outputs": []
    },
    {
      "cell_type": "markdown",
      "source": [
        "6. Among the top 5 most popular artists, which artist has the highest popularity on average? Calculate and display the average popularity for each artist."
      ],
      "metadata": {
        "id": "78uKDRX-GTOw"
      }
    },
    {
      "cell_type": "code",
      "source": [
        "# Get top 5 most popular artists by average popularity\n",
        "top_artists = data_clean.groupby('Artist')['Popularity'].mean().nlargest(5).reset_index()\n",
        "print(top_artists)"
      ],
      "metadata": {
        "id": "Xt-WZyDaGZFd"
      },
      "execution_count": null,
      "outputs": []
    },
    {
      "cell_type": "markdown",
      "source": [
        "7. For the top 5 most popular artists, what are their most popular tracks? List the track name for each artist"
      ],
      "metadata": {
        "id": "4dwl078VGfa9"
      }
    },
    {
      "cell_type": "code",
      "source": [
        "# Get the most popular track for the top 5 most popular artists\n",
        "top_artists_names = top_artists['Artist'].tolist()\n",
        "popular_tracks_by_artist = data_clean[data_clean['Artist'].isin(top_artists_names)].sort_values('Popularity', ascending=False).groupby('Artist').first().reset_index()\n",
        "print(popular_tracks_by_artist[['Artist', 'Track Name', 'Popularity']])"
      ],
      "metadata": {
        "id": "wfPJqlXrGkQn"
      },
      "execution_count": null,
      "outputs": []
    },
    {
      "cell_type": "markdown",
      "source": [
        "8. Visualize relationships between multiple numerical variables simultaneously using a pair plot."
      ],
      "metadata": {
        "id": "MocF_lw6Gp0K"
      }
    },
    {
      "cell_type": "code",
      "source": [
        "# Pair plot for selected numerical columns\n",
        "sns.pairplot(data_clean[['Popularity', 'Duration (ms)']])\n",
        "plt.show()"
      ],
      "metadata": {
        "id": "cUS-hytXGt_W"
      },
      "execution_count": null,
      "outputs": []
    },
    {
      "cell_type": "markdown",
      "source": [
        "9. Does the duration of tracks vary significantly across different artists? Explore this visually using a box plot or violin plot."
      ],
      "metadata": {
        "id": "JpksdsoVGxpV"
      }
    },
    {
      "cell_type": "code",
      "source": [
        "# Violin plot for track duration across artists\n",
        "plt.figure(figsize=(12, 8))\n",
        "sns.violinplot(x='Artist', y='Duration (ms)', data=data_clean, order=data_clean['Artist'].value_counts().index[:10])  # Display top 10 artists\n",
        "plt.xticks(rotation=90)\n",
        "plt.title('Track Duration Variation by Artist')\n",
        "plt.show()"
      ],
      "metadata": {
        "id": "AK7HKNbpG7kl"
      },
      "execution_count": null,
      "outputs": []
    },
    {
      "cell_type": "markdown",
      "source": [
        "10.How does the distribution of track popularity vary for different artists? Visualize this using a swarm plot or a violin plot."
      ],
      "metadata": {
        "id": "k0fpKXMYG9wu"
      }
    },
    {
      "cell_type": "code",
      "source": [
        "# Swarm plot for track popularity across artists\n",
        "plt.figure(figsize=(12, 8))\n",
        "sns.swarmplot(x='Artist', y='Popularity', data=data_clean, order=data_clean['Artist'].value_counts().index[:10])  # Display top 10 artists\n",
        "plt.xticks(rotation=90)\n",
        "plt.title('Popularity Distribution by Artist')\n",
        "plt.show()"
      ],
      "metadata": {
        "id": "Kr-FPM0BHDin"
      },
      "execution_count": null,
      "outputs": []
    }
  ]
}